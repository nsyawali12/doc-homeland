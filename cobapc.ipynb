{
 "cells": [
  {
   "cell_type": "code",
   "execution_count": null,
   "source": [
    "import numpy \r\n",
    "import pandas"
   ],
   "outputs": [],
   "metadata": {}
  },
  {
   "cell_type": "code",
   "execution_count": null,
   "source": [],
   "outputs": [],
   "metadata": {}
  }
 ],
 "metadata": {
  "orig_nbformat": 4,
  "language_info": {
   "name": "python",
   "version": "3.8.11"
  },
  "kernelspec": {
   "name": "python3",
   "display_name": "Python 3.8.11 64-bit ('deeplearn': conda)"
  },
  "interpreter": {
   "hash": "af6d38e222aa9747486d2baece32698c43762b282f77a9833076f5318f678abf"
  }
 },
 "nbformat": 4,
 "nbformat_minor": 2
}